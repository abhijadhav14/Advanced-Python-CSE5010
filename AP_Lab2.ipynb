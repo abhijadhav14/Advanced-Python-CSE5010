{
 "cells": [
  {
   "cell_type": "code",
   "execution_count": null,
   "id": "c0832231",
   "metadata": {},
   "outputs": [
    {
     "name": "stdout",
     "output_type": "stream",
     "text": [
      "You are 20 so you are eligible to vote.\n"
     ]
    }
   ],
   "source": [
    "# Write a python Script to check if the person is eligible to vote or not by only using if statement\n",
    "\n",
    "age = int(input(\"Enter your age: \"))\n",
    "\n",
    "if age >= 18:\n",
    "    print(f\"You are {age} so you are eligible to vote.\")\n",
    "\n",
    "if age < 18:\n",
    "    print(f\"You are {age} so you are not eligible to vote.\")    \n"
   ]
  },
  {
   "cell_type": "code",
   "execution_count": 12,
   "id": "21aefc6d",
   "metadata": {},
   "outputs": [
    {
     "name": "stdout",
     "output_type": "stream",
     "text": [
      "-15 is a negative number.\n"
     ]
    }
   ],
   "source": [
    "# Write a Python scrip to check given number is positive or negative\n",
    "\n",
    "num = int(input(\"Enter a number: \"))\n",
    "\n",
    "if num >= 0:\n",
    "    print(f\"{num} is a positive number.\")\n",
    "\n",
    "else:\n",
    "    print(f\"{num} is a negative number.\")   "
   ]
  },
  {
   "cell_type": "code",
   "execution_count": 14,
   "id": "309163f0",
   "metadata": {},
   "outputs": [
    {
     "name": "stdout",
     "output_type": "stream",
     "text": [
      "2004 is a leap year.\n"
     ]
    }
   ],
   "source": [
    "# Write a Python Script to check given year is leap year or not\n",
    "\n",
    "year = int(input(\"Enter a year: \"))\n",
    "if ((year % 400 == 0) or (year % 4 == 0) and (year % 100 != 0)) :\n",
    "    print(f\"{year} is a leap year.\")\n",
    "else:\n",
    "    print(f\"{year} is not a leap year.\")"
   ]
  },
  {
   "cell_type": "code",
   "execution_count": 17,
   "id": "24419831",
   "metadata": {},
   "outputs": [
    {
     "name": "stdout",
     "output_type": "stream",
     "text": [
      "147296357 is not divisible by both 5 and 7.\n"
     ]
    }
   ],
   "source": [
    "# write a python script to check given number is divisible by 5 and 7\n",
    "\n",
    "number = int(input(\"Enter a number: \"))\n",
    "if (number % 5 == 0) and (number % 7 == 0):\n",
    "    print(f\"{number} is divisible by both 5 and 7.\")\n",
    "else:\n",
    "    print(f\"{number} is not divisible by both 5 and 7.\")    "
   ]
  },
  {
   "cell_type": "code",
   "execution_count": 18,
   "id": "64447116",
   "metadata": {},
   "outputs": [
    {
     "name": "stdout",
     "output_type": "stream",
     "text": [
      "3.05 is larger than 0.04.\n"
     ]
    }
   ],
   "source": [
    "# write a pythgon script to find largest of two floating numbers\n",
    "\n",
    "a = float(input(\"Enter first floating number: \"))\n",
    "b = float(input(\"Enter second floating number: \"))\n",
    "if a > b:\n",
    "    print(f\"{a} is larger than {b}.\")\n",
    "else:\n",
    "    print(f\"{b} is larger than {a}.\")"
   ]
  },
  {
   "cell_type": "code",
   "execution_count": 21,
   "id": "4d63e898",
   "metadata": {},
   "outputs": [
    {
     "name": "stdout",
     "output_type": "stream",
     "text": [
      "30 is positive.\n"
     ]
    }
   ],
   "source": [
    "# write a python script to check weather given number is positive, negative or zero using nested if else\n",
    "\n",
    "number = int(input(\"Enter a number: \"))\n",
    "if number >= 0:\n",
    "    if number == 0:\n",
    "        print(f\"{number} is zero.\")\n",
    "    else:\n",
    "        print(f\"{number} is positive.\")\n",
    "else:\n",
    "    print(f\"{number} is negative.\") "
   ]
  },
  {
   "cell_type": "code",
   "execution_count": 26,
   "id": "ae6a7b82",
   "metadata": {},
   "outputs": [
    {
     "name": "stdout",
     "output_type": "stream",
     "text": [
      "n1 = 4231\n",
      "n2 = 2434\n",
      "n3 = 6354\n",
      "6354 is the largest number.\n"
     ]
    }
   ],
   "source": [
    "# write a python script to check largest of three numbers using nested if else\n",
    "\n",
    "n1 = int(input(\"Enter first number: \"))\n",
    "n2 = int(input(\"Enter second number: \"))\n",
    "n3 = int(input(\"Enter third number: \"))    \n",
    "\n",
    "print(\"n1 =\", n1)\n",
    "print(\"n2 =\", n2)\n",
    "print(\"n3 =\", n3)\n",
    "\n",
    "if n1 > n2:\n",
    "    if n1 > n3:\n",
    "        print(f\"{n1} is the largest number.\")\n",
    "    else:\n",
    "        print(f\"{n3} is the largest number.\")\n",
    "else:\n",
    "    if n2 > n3:\n",
    "        print(f\"{n2} is the largest number.\")\n",
    "    else:\n",
    "        print(f\"{n3} is the largest number.\")"
   ]
  },
  {
   "cell_type": "code",
   "execution_count": 30,
   "id": "d4deb5e3",
   "metadata": {},
   "outputs": [
    {
     "name": "stdout",
     "output_type": "stream",
     "text": [
      "755 is the than both 566 and 566.\n"
     ]
    }
   ],
   "source": [
    "# write a python script to check greater number among three numbers using elif\n",
    "\n",
    "num1 = int(input(\"Enter first number: \"))\n",
    "num2 = int(input(\"Enter second number: \"))\n",
    "num3 = int(input(\"Enter third number: \"))\n",
    "\n",
    "if (num1 > num2) and (num1 > num3):\n",
    "    print(f\"{num1} is the greatest than both {num2} and {num3}.\")\n",
    "elif (num2 > num1) and (num2 > num3):\n",
    "    print(f\"{num2} is the greatest than both {num1} and {num3}.\")\n",
    "elif (num3 > num1) and (num3 > num2):\n",
    "    print(f\"{num3} is the than both {num1} and {num2}.\") \n",
    "else:\n",
    "    print(f\"{num1} {num2} {num3},all three numbers are equal.\")    \n"
   ]
  },
  {
   "cell_type": "code",
   "execution_count": 38,
   "id": "03669a22",
   "metadata": {},
   "outputs": [
    {
     "name": "stdout",
     "output_type": "stream",
     "text": [
      "Total bill: 2456.0, Discount: 122.80000000000001 You save: 5%, Final amount to pay: 2333.2\n"
     ]
    }
   ],
   "source": [
    "# Python Script for shopping Discount calculator if the total bill is >= 5000, apply 20% discount. the total bill is >= 3000 and < 5000, apply 10% discount if the total bill is >= 1000 and < 3000,apply 5% no discount\n",
    "\n",
    "total_bill = float(input(\"Enter the total bill amount: \"))\n",
    "\n",
    "if total_bill >= 5000:\n",
    "    discount = total_bill * 0.20\n",
    "    final_amount = total_bill - discount\n",
    "    print(f\"Total bill: {total_bill}, Discount: {discount}, You save: 20%, Final amount to pay: {final_amount}\")\n",
    "elif total_bill >= 3000:    \n",
    "    discount = total_bill * 0.10\n",
    "    final_amount = total_bill - discount\n",
    "    print(f\"Total bill: {total_bill}, Discount: {discount}, You save: 10%, Final amount to pay: {final_amount}\")\n",
    "elif total_bill >= 1000:\n",
    "    discount = total_bill * 0.05\n",
    "    final_amount = total_bill - discount\n",
    "    print(f\"Total bill: {total_bill}, Discount: {discount} You save: 5%, Final amount to pay: {final_amount}\")\n",
    "else:\n",
    "    print(f\"Total bill: {total_bill}, No discount applicable. Final amount to pay: {total_bill}\")   "
   ]
  }
 ],
 "metadata": {
  "kernelspec": {
   "display_name": "base",
   "language": "python",
   "name": "python3"
  },
  "language_info": {
   "codemirror_mode": {
    "name": "ipython",
    "version": 3
   },
   "file_extension": ".py",
   "mimetype": "text/x-python",
   "name": "python",
   "nbconvert_exporter": "python",
   "pygments_lexer": "ipython3",
   "version": "3.9.12"
  }
 },
 "nbformat": 4,
 "nbformat_minor": 5
}
