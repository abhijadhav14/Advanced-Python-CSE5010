{
 "cells": [
  {
   "cell_type": "code",
   "execution_count": 2,
   "id": "59a20c40",
   "metadata": {},
   "outputs": [],
   "source": [
    "a = 10\n",
    "b = 20"
   ]
  },
  {
   "cell_type": "code",
   "execution_count": 3,
   "id": "f6de8e3f",
   "metadata": {},
   "outputs": [
    {
     "name": "stdout",
     "output_type": "stream",
     "text": [
      "30\n"
     ]
    }
   ],
   "source": [
    "c = a + b\n",
    "print(c)"
   ]
  },
  {
   "cell_type": "code",
   "execution_count": 4,
   "id": "b5d72e62",
   "metadata": {},
   "outputs": [
    {
     "name": "stdout",
     "output_type": "stream",
     "text": [
      "You entered: 10\n"
     ]
    }
   ],
   "source": [
    "a = input(\"Enter a number: \")\n",
    "print(\"You entered:\", a)"
   ]
  },
  {
   "cell_type": "code",
   "execution_count": 12,
   "id": "58e2c1d7",
   "metadata": {},
   "outputs": [
    {
     "name": "stdout",
     "output_type": "stream",
     "text": [
      "The area of the circle with radius 5.0 is: 78.53975\n",
      "The circumference of the circle with radius 5.0 is: 31.4159\n",
      "voulme of sphere with radius 5.0 is: 523.5983333333332\n"
     ]
    }
   ],
   "source": [
    "radius = float(input(\"Enter the radius of the circle: \"))\n",
    "area = 3.14159 * radius ** 2\n",
    "cercumference = 2 * 3.14159 * radius\n",
    "print(f\"The area of the circle with radius {radius} is: {area}\")\n",
    "print(f\"The circumference of the circle with radius {radius} is: {cercumference}\")\n",
    "print(f\"voulme of sphere with radius {radius} is: {4/3 * 3.14159 * radius ** 3}\")"
   ]
  },
  {
   "cell_type": "code",
   "execution_count": null,
   "id": "724fec01",
   "metadata": {},
   "outputs": [],
   "source": []
  }
 ],
 "metadata": {
  "kernelspec": {
   "display_name": ".venv",
   "language": "python",
   "name": "python3"
  },
  "language_info": {
   "codemirror_mode": {
    "name": "ipython",
    "version": 3
   },
   "file_extension": ".py",
   "mimetype": "text/x-python",
   "name": "python",
   "nbconvert_exporter": "python",
   "pygments_lexer": "ipython3",
   "version": "3.12.2"
  }
 },
 "nbformat": 4,
 "nbformat_minor": 5
}
